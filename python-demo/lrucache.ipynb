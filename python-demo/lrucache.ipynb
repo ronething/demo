{
 "cells": [
  {
   "cell_type": "code",
   "execution_count": 2,
   "metadata": {
    "collapsed": true
   },
   "outputs": [
    {
     "name": "stdout",
     "output_type": "stream",
     "text": [
      "容量超过\n",
      "-1\n",
      "xzx\n",
      "panda\n",
      "aaron\n"
     ]
    }
   ],
   "source": [
    "from collections import OrderedDict\n",
    "\n",
    "\n",
    "class LRUCache(object):\n",
    "\n",
    "    def __init__(self, capacity=128):\n",
    "        self.od = OrderedDict()\n",
    "        self.capacity = capacity\n",
    "\n",
    "    def get(self, key):\n",
    "        if key in self.od:\n",
    "            val = self.od[key]\n",
    "            self.od.move_to_end(key)  # 这里的 end 作为表头\n",
    "            return val\n",
    "        else:\n",
    "            return -1\n",
    "\n",
    "    def put(self, key, value):\n",
    "        if key in self.od:\n",
    "            del self.od[key]\n",
    "            self.od[key] = value\n",
    "        else:  # insert\n",
    "            self.od[key] = value\n",
    "            if len(self.od) > self.capacity:\n",
    "                print(\"容量超过\")\n",
    "                self.od.popitem(last=False)  # last=False 表示删除表尾的元素\n",
    "\n",
    "cache = LRUCache(3)\n",
    "cache.put('name', 'ashing')\n",
    "cache.put('name1', 'xzx')\n",
    "cache.put('name2', 'panda')\n",
    "cache.put('name3', 'aaron')\n",
    "print(cache.get('name'))\n",
    "print(cache.get('name1'))\n",
    "print(cache.get('name2'))\n",
    "print(cache.get('name3'))"
   ]
  }
 ],
 "metadata": {
  "kernelspec": {
   "display_name": "Python 3",
   "language": "python",
   "name": "python3"
  },
  "language_info": {
   "codemirror_mode": {
    "name": "ipython",
    "version": 2
   },
   "file_extension": ".py",
   "mimetype": "text/x-python",
   "name": "python",
   "nbconvert_exporter": "python",
   "pygments_lexer": "ipython2",
   "version": "2.7.6"
  }
 },
 "nbformat": 4,
 "nbformat_minor": 0
}